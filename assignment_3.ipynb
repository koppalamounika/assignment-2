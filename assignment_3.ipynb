{
  "nbformat": 4,
  "nbformat_minor": 0,
  "metadata": {
    "colab": {
      "name": "assignment-3",
      "provenance": [],
      "authorship_tag": "ABX9TyOA0pqL5a9WvX8MuQ83zTBn",
      "include_colab_link": true
    },
    "kernelspec": {
      "name": "python3",
      "display_name": "Python 3"
    }
  },
  "cells": [
    {
      "cell_type": "markdown",
      "metadata": {
        "id": "view-in-github",
        "colab_type": "text"
      },
      "source": [
        "<a href=\"https://colab.research.google.com/github/koppalamounika/assignment-2/blob/master/assignment_3.ipynb\" target=\"_parent\"><img src=\"https://colab.research.google.com/assets/colab-badge.svg\" alt=\"Open In Colab\"/></a>"
      ]
    },
    {
      "cell_type": "markdown",
      "metadata": {
        "id": "wXYK3SB-2Wdp",
        "colab_type": "text"
      },
      "source": [
        "1. Given the lengths of three sides of a triangle, calculate the area of the triangle."
      ]
    },
    {
      "cell_type": "code",
      "metadata": {
        "id": "SWzF05wNwD90",
        "colab_type": "code",
        "colab": {
          "base_uri": "https://localhost:8080/",
          "height": 90
        },
        "outputId": "366fdc03-5036-4920-9a7d-19cca42a79aa"
      },
      "source": [
        "a = float(input(\"enter length of first side:\"))\n",
        "b = float(input(\"enter length of second side:\"))\n",
        "c = float(input(\"enter length of third side:\"))\n",
        "if(a+b>c):\n",
        "  s = (a+b+c)/2\n",
        "  area = (s*(s-a)*(s-b)*(s-c))** (1/2)\n",
        "  print(\"area of triangle = \",round(area,2))\n",
        "else:\n",
        "  print(\"triangle is not possible\")"
      ],
      "execution_count": null,
      "outputs": [
        {
          "output_type": "stream",
          "text": [
            "enter length of first side:5\n",
            "enter length of second side:4\n",
            "enter length of third side:3\n",
            "area of triangle =  6.0\n"
          ],
          "name": "stdout"
        }
      ]
    },
    {
      "cell_type": "markdown",
      "metadata": {
        "id": "TLw7TEkU2NYd",
        "colab_type": "text"
      },
      "source": [
        "2.  Take a string from end user and check if the value is palindrome or not."
      ]
    },
    {
      "cell_type": "code",
      "metadata": {
        "id": "4dql2MXwzjrY",
        "colab_type": "code",
        "colab": {
          "base_uri": "https://localhost:8080/",
          "height": 53
        },
        "outputId": "d0940420-5fe3-4cb3-a70f-507d84d08055"
      },
      "source": [
        "string = str(input(\"enter a string\"))\n",
        "if string == string[::-1]:\n",
        "  print(string ,\"is palindrome\")\n",
        "else:\n",
        "  print(string ,\"is not palindrome\")"
      ],
      "execution_count": null,
      "outputs": [
        {
          "output_type": "stream",
          "text": [
            "enter a string12321\n",
            "12321 is palindrome\n"
          ],
          "name": "stdout"
        }
      ]
    },
    {
      "cell_type": "markdown",
      "metadata": {
        "id": "9_85uZ1I2hvx",
        "colab_type": "text"
      },
      "source": [
        "3.  Write a program that reads a year from the user and displays a message indicating whether year is leap year or not."
      ]
    },
    {
      "cell_type": "code",
      "metadata": {
        "id": "0grTYEWj2ipd",
        "colab_type": "code",
        "colab": {
          "base_uri": "https://localhost:8080/",
          "height": 53
        },
        "outputId": "d0618476-2d0f-499e-cbc2-8c545a95819f"
      },
      "source": [
        "year = int(input(\"enter the year to check: \"))\n",
        "if((year%400 == 0) or ((year%4 == 0) and (year%100 != 0))):\n",
        "  print(year ,\"is leap year\")\n",
        "else:\n",
        "  print(year ,\"is not leap year\")"
      ],
      "execution_count": null,
      "outputs": [
        {
          "output_type": "stream",
          "text": [
            "enter the year to check: 2008\n",
            "2008 is leap year\n"
          ],
          "name": "stdout"
        }
      ]
    },
    {
      "cell_type": "markdown",
      "metadata": {
        "id": "5GTWPwCG5Hf-",
        "colab_type": "text"
      },
      "source": [
        "4. Space to Hyphen problem:\n",
        "  Take a string as input, and replaces spaces \" \" with hyphens \"-\", and returns  a string.\n",
        "     Input: \"This program converts spaces into hyphen\"\n",
        "   Output: \"This-program-converts-spaces-into-hyphen\""
      ]
    },
    {
      "cell_type": "code",
      "metadata": {
        "id": "GVTDuUS75I8M",
        "colab_type": "code",
        "colab": {
          "base_uri": "https://localhost:8080/",
          "height": 108
        },
        "outputId": "7a446e07-72a3-403c-d7cf-0c81f584de37"
      },
      "source": [
        "string = input(\"enter the string:\")\n",
        "print(\"actual string is \\n\",string)\n",
        "string = string.replace(' ','-')\n",
        "print(\"string after modification is \\n\",string)"
      ],
      "execution_count": null,
      "outputs": [
        {
          "output_type": "stream",
          "text": [
            "enter the string:This program converts spaces into hyphen\n",
            "actual string is \n",
            " This program converts spaces into hyphen\n",
            "string after modification is \n",
            " This-program-converts-spaces-into-hyphen\n"
          ],
          "name": "stdout"
        }
      ]
    },
    {
      "cell_type": "markdown",
      "metadata": {
        "id": "wKPMYPDI7TMV",
        "colab_type": "text"
      },
      "source": [
        "5.Unique Sort Problem.:\n",
        "   Take a string as input that accepts a comma separated sequence of words as input and prints the unique words in sorted form (alphanumerically).\n",
        "   Input: orange,white,red,cyan,green,magenta,cyan,pink,white\n",
        "   Output: cyan,green,magenta,orange,pink,red,white"
      ]
    },
    {
      "cell_type": "code",
      "metadata": {
        "id": "IEjktHb77nAc",
        "colab_type": "code",
        "colab": {}
      },
      "source": [
        "def sort(string):\n",
        "  words = string.split(\",\")\n",
        "  words.sort()\n",
        "  newstring = \",\".join(words)\n",
        "  return newstring\n"
      ],
      "execution_count": null,
      "outputs": []
    },
    {
      "cell_type": "code",
      "metadata": {
        "id": "OPyj3nBN-QY_",
        "colab_type": "code",
        "colab": {
          "base_uri": "https://localhost:8080/",
          "height": 108
        },
        "outputId": "9bf4c0a9-a839-4a5e-8f81-5a250f4754cb"
      },
      "source": [
        "string = input(\"enter the string:\")\n",
        "print(\"actual string is:\\n\",string)\n",
        "print(\"sorted string is:\\n\",sort(string))"
      ],
      "execution_count": null,
      "outputs": [
        {
          "output_type": "stream",
          "text": [
            "enter the string:orange,white,red,cyan,green,maroon,blue,yellow\n",
            "actual string is:\n",
            " orange,white,red,cyan,green,maroon,blue,yellow\n",
            "sorted string is:\n",
            " blue,cyan,green,maroon,orange,red,white,yellow\n"
          ],
          "name": "stdout"
        }
      ]
    },
    {
      "cell_type": "markdown",
      "metadata": {
        "id": "qBSQQczcBe8F",
        "colab_type": "text"
      },
      "source": [
        "6. Tax Calculator\n",
        "   Ask the user for their monthly salary. Calculate whether they have to pay tax and if so,\n",
        "   how much is that amount .Print the result."
      ]
    },
    {
      "cell_type": "code",
      "metadata": {
        "id": "w4e3TQ_qBhgF",
        "colab_type": "code",
        "colab": {
          "base_uri": "https://localhost:8080/",
          "height": 53
        },
        "outputId": "313f99a1-8084-4f0a-ae24-bed2bdb0dc7d"
      },
      "source": [
        "salary=float(input('Enter Monthly salary:\\t'))\n",
        "total=salary*12\n",
        "if total<=1500000:\n",
        "    tax=(25/100)*total\n",
        "    if total<=1250000:\n",
        "        tax=(20/100)*total\n",
        "        if total<=1000000:\n",
        "            tax=(15/100)*total\n",
        "            if total<=750000:\n",
        "                tax=(10/100)*total\n",
        "                if total<=500000:\n",
        "                    tax=(5/100)*total\n",
        "                    if total<=250000:\n",
        "                        tax=(0/100)*total\n",
        "else:\n",
        "    tax=(30/100)*total\n",
        "print(tax)"
      ],
      "execution_count": null,
      "outputs": [
        {
          "output_type": "stream",
          "text": [
            "Enter Monthly salary:\t4500\n",
            "0.0\n"
          ],
          "name": "stdout"
        }
      ]
    },
    {
      "cell_type": "markdown",
      "metadata": {
        "id": "Tz75bK20hwZK",
        "colab_type": "text"
      },
      "source": [
        "7.  Take a list of integers as an argument, and converts it into a single integer (return the integer).\n",
        "   input:[11,33,50]\n",
        "   output:113350"
      ]
    },
    {
      "cell_type": "code",
      "metadata": {
        "id": "qGrL9KHAhyEu",
        "colab_type": "code",
        "colab": {
          "base_uri": "https://localhost:8080/",
          "height": 35
        },
        "outputId": "72da0eb5-1ef7-4710-d0a3-82a21281ad89"
      },
      "source": [
        "List = [11, 33, 50]\n",
        "x = int(\"\".join(map(str, List)))\n",
        "print(\"Single Integer: \",x)"
      ],
      "execution_count": null,
      "outputs": [
        {
          "output_type": "stream",
          "text": [
            "Single Integer:  113350\n"
          ],
          "name": "stdout"
        }
      ]
    },
    {
      "cell_type": "markdown",
      "metadata": {
        "id": "J0zgFpxciVij",
        "colab_type": "text"
      },
      "source": [
        "8. Units of Time\n",
        "  Create a program that reads duration from the user as a number of days, hours, minutes, and seconds. \n",
        "   Compute and display the total number of seconds represented by this duration."
      ]
    },
    {
      "cell_type": "code",
      "metadata": {
        "id": "Ozlxc83ziXkN",
        "colab_type": "code",
        "colab": {
          "base_uri": "https://localhost:8080/",
          "height": 108
        },
        "outputId": "15a1e5aa-3651-445b-c193-6372e02cf035"
      },
      "source": [
        "days    = int(input(\"Enter number of Days: \"))\n",
        "hours   = int(input(\"Enter number of Hours: \"))\n",
        "minutes = int(input(\"Enter number of Minutes: \"))\n",
        "seconds = int(input(\"Enter number of Seconds: \"))\n",
        "total_seconds = days * 86400\n",
        "total_seconds = total_seconds + ( hours * 3600)\n",
        "total_seconds = total_seconds + ( minutes * 60)\n",
        "total_seconds = total_seconds + seconds\n",
        "print(\"Total number of seconds:\", total_seconds)"
      ],
      "execution_count": null,
      "outputs": [
        {
          "output_type": "stream",
          "text": [
            "Enter number of Days: 4\n",
            "Enter number of Hours: 16\n",
            "Enter number of Minutes: 24\n",
            "Enter number of Seconds: 10\n",
            "Total number of seconds: 404650\n"
          ],
          "name": "stdout"
        }
      ]
    },
    {
      "cell_type": "markdown",
      "metadata": {
        "id": "1SIzWRqZjqvS",
        "colab_type": "text"
      },
      "source": [
        "9. Sort 3 integers\n",
        "   Given three integers (given through user input), sort the numbers using |min| and |max| functions."
      ]
    },
    {
      "cell_type": "code",
      "metadata": {
        "id": "hjDW1KShjsnN",
        "colab_type": "code",
        "colab": {
          "base_uri": "https://localhost:8080/",
          "height": 90
        },
        "outputId": "5f5d80c1-27c3-4ba8-a49b-45b8b267c0a0"
      },
      "source": [
        "num1=int(input('Enter 1st integer: '))\n",
        "num2=int(input('Enter 2nd integer: '))\n",
        "num3=int(input('Enter 3rd integer: '))\n",
        "max=max(num1,num2,num3)\n",
        "min=min(num1,num2,num3)\n",
        "mid=(num1+num2+num3)-max-min\n",
        "print(\"numbers in sorted order: \", min, mid, max)"
      ],
      "execution_count": null,
      "outputs": [
        {
          "output_type": "stream",
          "text": [
            "Enter 1st integer: 23\n",
            "Enter 2nd integer: 45\n",
            "Enter 3rd integer: 12\n",
            "numbers in sorted order:  12 23 45\n"
          ],
          "name": "stdout"
        }
      ]
    },
    {
      "cell_type": "markdown",
      "metadata": {
        "id": "3-B4cKhllEJN",
        "colab_type": "text"
      },
      "source": [
        "10.  Write a program that reads a date from the user and computes its immediate successor.The date is the format YYYY-MM-DD. So, 2020-04-15\n",
        "   will have the successor 2020-04-16."
      ]
    },
    {
      "cell_type": "code",
      "metadata": {
        "id": "0pdIuxUHlGPt",
        "colab_type": "code",
        "colab": {
          "base_uri": "https://localhost:8080/",
          "height": 90
        },
        "outputId": "310e68f8-726f-4a0b-9dcc-4035f3410878"
      },
      "source": [
        "year = int(input(\"Input a year: \"))\n",
        "if (year % 4 == 0):\n",
        "    leap_year = True\n",
        "else:\n",
        "    leap_year = False\n",
        "month = int(input(\"Input a month [1-12]: \"))\n",
        "if month in (1, 3, 5, 7, 8, 10, 12):\n",
        "    month_length = 31\n",
        "elif month == 2:\n",
        "    if leap_year:\n",
        "        month_length = 29\n",
        "    else:\n",
        "        month_length = 28\n",
        "else:\n",
        "    month_length = 30\n",
        "\n",
        "\n",
        "day = int(input(\"Input a day [1-31]: \"))\n",
        "\n",
        "if day < month_length:\n",
        "    day += 1\n",
        "else:\n",
        "    day = 1\n",
        "    if month == 12:\n",
        "        month = 1\n",
        "        year += 1\n",
        "    else:\n",
        "        month += 1\n",
        "print(\"The next date is %d-%d-%d.\" % (year, month, day))"
      ],
      "execution_count": null,
      "outputs": [
        {
          "output_type": "stream",
          "text": [
            "Input a year: 2020\n",
            "Input a month [1-12]: 04\n",
            "Input a day [1-31]: 15\n",
            "The next date is 2020-4-16.\n"
          ],
          "name": "stdout"
        }
      ]
    },
    {
      "cell_type": "markdown",
      "metadata": {
        "id": "q5UXszpWmdwg",
        "colab_type": "text"
      },
      "source": [
        "11. Compute product of a list of numbers [45,3,2,89,72,1,10,7]\n",
        "   Output: 121111200"
      ]
    },
    {
      "cell_type": "code",
      "metadata": {
        "id": "djzjNJYLmoQc",
        "colab_type": "code",
        "colab": {
          "base_uri": "https://localhost:8080/",
          "height": 35
        },
        "outputId": "2d027787-9146-4ee9-ad4c-5ce53d1f399b"
      },
      "source": [
        "list=[45,3,2,89,72,1,10,7]\n",
        "product=1\n",
        "for i in list:\n",
        "  product=product*i\n",
        "print(\"product is : \" ,product)"
      ],
      "execution_count": null,
      "outputs": [
        {
          "output_type": "stream",
          "text": [
            "product is :  121111200\n"
          ],
          "name": "stdout"
        }
      ]
    },
    {
      "cell_type": "markdown",
      "metadata": {
        "id": "eYOTQICvm_LM",
        "colab_type": "text"
      },
      "source": [
        "12. Compute given Num_list=[5,6,8,34,89,1] to get desired output.\n",
        "     Output : Out_list=[11,14,42,123,90]"
      ]
    },
    {
      "cell_type": "code",
      "metadata": {
        "id": "-RFKE1_6nBRi",
        "colab_type": "code",
        "colab": {
          "base_uri": "https://localhost:8080/",
          "height": 35
        },
        "outputId": "ec894f28-2a59-46a8-ed35-41047ff40445"
      },
      "source": [
        "Num_list=[5,6,8,34,89,1]\n",
        "out_list=[]\n",
        "for i in range(len(Num_list)-1):\n",
        "    ol=Num_list[i]+Num_list[i+1]\n",
        "    out_list.append(ol)\n",
        "print(\"Out_list=\",out_list)\n",
        "\n"
      ],
      "execution_count": null,
      "outputs": [
        {
          "output_type": "stream",
          "text": [
            "Out_list= [11, 14, 42, 123, 90]\n"
          ],
          "name": "stdout"
        }
      ]
    },
    {
      "cell_type": "markdown",
      "metadata": {
        "id": "Oc923PlZvsqC",
        "colab_type": "text"
      },
      "source": [
        "13. Compute given Num_tuple=(5,6,8,3,9,1) to get desired output.     \n",
        "   Output : Out_list=[5,30,240,720,6480,6480]  "
      ]
    },
    {
      "cell_type": "code",
      "metadata": {
        "id": "O8d0-i9avt7h",
        "colab_type": "code",
        "colab": {
          "base_uri": "https://localhost:8080/",
          "height": 35
        },
        "outputId": "7ee23d45-e9c0-4202-bb28-10d59eb649c0"
      },
      "source": [
        "n=(5,6,8,3,9,1)\n",
        "Out_list=[]\n",
        "Out_list.append(n[0])\n",
        "for i in range(len(n)-1):\n",
        "    m=Out_list[i]*n[i+1]\n",
        "    Out_list.append(m)\n",
        "print(\"Out_list=\",Out_list)"
      ],
      "execution_count": null,
      "outputs": [
        {
          "output_type": "stream",
          "text": [
            "Out_list= [5, 30, 240, 720, 6480, 6480]\n"
          ],
          "name": "stdout"
        }
      ]
    },
    {
      "cell_type": "markdown",
      "metadata": {
        "id": "AYFRk9Rsv_-5",
        "colab_type": "text"
      },
      "source": [
        "14.  Write a Python code that takes a number and returns a list of its digits. So for 586392 it should return [5,8,6,3,9,2]."
      ]
    },
    {
      "cell_type": "code",
      "metadata": {
        "id": "VJl_ZVpawBMN",
        "colab_type": "code",
        "colab": {
          "base_uri": "https://localhost:8080/",
          "height": 53
        },
        "outputId": "faf28c57-8dc5-4e8d-ac32-7c34cc2cbc26"
      },
      "source": [
        "number=input(\"Enter a number: \")\n",
        "list=[]\n",
        "for n in range(len(number)):\n",
        "    list.append(int(number[n]))\n",
        "print(list)"
      ],
      "execution_count": null,
      "outputs": [
        {
          "output_type": "stream",
          "text": [
            "Enter a number: 586392\n",
            "[5, 8, 6, 3, 9, 2]\n"
          ],
          "name": "stdout"
        }
      ]
    },
    {
      "cell_type": "markdown",
      "metadata": {
        "id": "d-sDrITzwn4x",
        "colab_type": "text"
      },
      "source": [
        "15.  Write a program that finds the longest palindromic substring of a given string."
      ]
    },
    {
      "cell_type": "code",
      "metadata": {
        "id": "aZrmN2gnw2BD",
        "colab_type": "code",
        "colab": {
          "base_uri": "https://localhost:8080/",
          "height": 53
        },
        "outputId": "26d17632-dbdd-4316-b31b-c246cc4e0ef9"
      },
      "source": [
        "def longestpalindrome(n):\n",
        "    d=[[False for i in range(len(n))] for i in range(len(n))]\n",
        "    for i in range(len(n)):\n",
        "        d[i][i]=True\n",
        "    maxlen=1\n",
        "    start=0\n",
        "    for j in range(2,len(n)+1):\n",
        "        for i in range(len(n)-j+1):\n",
        "            end=i+j\n",
        "            if j==2:\n",
        "                if n[i]==n[end-1]:\n",
        "                    d[i][end-1]=True\n",
        "                    maxlen=j\n",
        "                    start=i\n",
        "            else:\n",
        "                if n[i]==n[end-1] and d[i+1][end-2]:\n",
        "                    d[i][end-1]=True\n",
        "                    maxlen=j\n",
        "                    start=i\n",
        "    return n[start:start+maxlen]\n",
        "n=input(\"Enter a string : \")\n",
        "print(longestpalindrome(n))"
      ],
      "execution_count": null,
      "outputs": [
        {
          "output_type": "stream",
          "text": [
            "Enter a string : I speak malayalam\n",
            "malayalam\n"
          ],
          "name": "stdout"
        }
      ]
    },
    {
      "cell_type": "markdown",
      "metadata": {
        "id": "8Aw8gMWDyJ9D",
        "colab_type": "text"
      },
      "source": [
        "16.  Substring Check (Bug Funny)"
      ]
    },
    {
      "cell_type": "code",
      "metadata": {
        "id": "Ov_1boSmyLpO",
        "colab_type": "code",
        "colab": {
          "base_uri": "https://localhost:8080/",
          "height": 72
        },
        "outputId": "1fb08c6d-58f0-43fe-f440-eb52afa1d3a1"
      },
      "source": [
        "t=int(input())\n",
        "for i in range(t):\n",
        "  A,B=input(\"Enter A string and B string : \").split()\n",
        "  if B in A:\n",
        "    print(\"1\")\n",
        "    break\n",
        "  else:\n",
        "    print(\"0\")\n",
        "    break"
      ],
      "execution_count": null,
      "outputs": [
        {
          "output_type": "stream",
          "text": [
            "10\n",
            "Enter A string and B string : 1000110  110\n",
            "1\n"
          ],
          "name": "stdout"
        }
      ]
    },
    {
      "cell_type": "markdown",
      "metadata": {
        "id": "HokzvNJ2yy1I",
        "colab_type": "text"
      },
      "source": [
        "17. Pouring water"
      ]
    },
    {
      "cell_type": "code",
      "metadata": {
        "id": "dnXseF3GzeWC",
        "colab_type": "code",
        "colab": {
          "base_uri": "https://localhost:8080/",
          "height": 108
        },
        "outputId": "c09acab5-25d3-4d13-92ca-a802e91296d8"
      },
      "source": [
        "def gcd(a,b):\n",
        "    if b==0: \n",
        "        return a \n",
        "    return gcd(b,a%b) \n",
        "def countsteps(a,b,c): \n",
        "    v1=b\n",
        "    v2=0\n",
        "    count=1\n",
        "    while ((v1 is not c) and (v2 is not c)): \n",
        "        temp=min(v1,a-v2) \n",
        "        v2=v2+temp \n",
        "        v1=v1-temp \n",
        "        count=count+1\n",
        "        if ((v2==c)or(v1==c)): \n",
        "            break\n",
        "        if v1==0: \n",
        "            v1=b \n",
        "            count=count+1\n",
        "        if v2==a: \n",
        "            v2=0\n",
        "            count=count+1\n",
        "    return count \n",
        "def ispossible(a,b,c): \n",
        "    if a>b: \n",
        "        temp=a \n",
        "        a=b \n",
        "        b=temp \n",
        "    if c>b: \n",
        "        return -1\n",
        "    if (c%(gcd(b,a)) is not 0): \n",
        "        return -1\n",
        "    return(min(countsteps(b,a,c),countsteps(a,b,c)))\n",
        "t=int(input(\"Enter no of testcases : \"))\n",
        "for i in range(t):\n",
        "  a=int(input(\"Enter capacity of vessel a : \"))\n",
        "  b=int(input(\"Enter capacity of vessel b : \"))\n",
        "  c=int(input(\"Enter capacity to be obtained :\"))\n",
        "  print(\"Minimum number of steps required is : \",ispossible(a,b,c))"
      ],
      "execution_count": null,
      "outputs": [
        {
          "output_type": "stream",
          "text": [
            "Enter no of testcases : 1\n",
            "Enter capacity of vessel a : 4\n",
            "Enter capacity of vessel b : 6\n",
            "Enter capacity to be obtained :7\n",
            "Minimum number of steps required is :  -1\n"
          ],
          "name": "stdout"
        }
      ]
    }
  ]
}